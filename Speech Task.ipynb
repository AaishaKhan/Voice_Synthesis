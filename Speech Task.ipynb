{
 "cells": [
  {
   "cell_type": "markdown",
   "id": "a5a698a8",
   "metadata": {},
   "source": [
    "# Installing Packages"
   ]
  },
  {
   "cell_type": "code",
   "execution_count": 1,
   "id": "29527193",
   "metadata": {},
   "outputs": [
    {
     "name": "stdout",
     "output_type": "stream",
     "text": [
      "Requirement already satisfied: SpeechRecognition in d:\\python\\lib\\site-packages (3.10.0)\n",
      "Requirement already satisfied: requests>=2.26.0 in d:\\python\\lib\\site-packages (from SpeechRecognition) (2.27.1)\n",
      "Requirement already satisfied: charset-normalizer~=2.0.0 in d:\\python\\lib\\site-packages (from requests>=2.26.0->SpeechRecognition) (2.0.4)\n",
      "Requirement already satisfied: urllib3<1.27,>=1.21.1 in d:\\python\\lib\\site-packages (from requests>=2.26.0->SpeechRecognition) (1.26.9)\n",
      "Requirement already satisfied: certifi>=2017.4.17 in d:\\python\\lib\\site-packages (from requests>=2.26.0->SpeechRecognition) (2021.10.8)\n",
      "Requirement already satisfied: idna<4,>=2.5 in d:\\python\\lib\\site-packages (from requests>=2.26.0->SpeechRecognition) (2.10)\n",
      "Requirement already satisfied: gTTS in d:\\python\\lib\\site-packages (2.3.2)\n",
      "Requirement already satisfied: requests<3,>=2.27 in d:\\python\\lib\\site-packages (from gTTS) (2.27.1)\n",
      "Requirement already satisfied: click<8.2,>=7.1 in d:\\python\\lib\\site-packages (from gTTS) (8.0.4)\n",
      "Requirement already satisfied: colorama in d:\\python\\lib\\site-packages (from click<8.2,>=7.1->gTTS) (0.4.4)\n",
      "Requirement already satisfied: urllib3<1.27,>=1.21.1 in d:\\python\\lib\\site-packages (from requests<3,>=2.27->gTTS) (1.26.9)\n",
      "Requirement already satisfied: certifi>=2017.4.17 in d:\\python\\lib\\site-packages (from requests<3,>=2.27->gTTS) (2021.10.8)\n",
      "Requirement already satisfied: charset-normalizer~=2.0.0 in d:\\python\\lib\\site-packages (from requests<3,>=2.27->gTTS) (2.0.4)\n",
      "Requirement already satisfied: idna<4,>=2.5 in d:\\python\\lib\\site-packages (from requests<3,>=2.27->gTTS) (2.10)\n",
      "Requirement already satisfied: googletrans==3.1.0a0 in d:\\python\\lib\\site-packages (3.1.0a0)\n",
      "Requirement already satisfied: httpx==0.13.3 in d:\\python\\lib\\site-packages (from googletrans==3.1.0a0) (0.13.3)\n",
      "Requirement already satisfied: certifi in d:\\python\\lib\\site-packages (from httpx==0.13.3->googletrans==3.1.0a0) (2021.10.8)\n",
      "Requirement already satisfied: httpcore==0.9.* in d:\\python\\lib\\site-packages (from httpx==0.13.3->googletrans==3.1.0a0) (0.9.1)\n",
      "Requirement already satisfied: idna==2.* in d:\\python\\lib\\site-packages (from httpx==0.13.3->googletrans==3.1.0a0) (2.10)\n",
      "Requirement already satisfied: sniffio in d:\\python\\lib\\site-packages (from httpx==0.13.3->googletrans==3.1.0a0) (1.2.0)\n",
      "Requirement already satisfied: hstspreload in d:\\python\\lib\\site-packages (from httpx==0.13.3->googletrans==3.1.0a0) (2023.1.1)\n",
      "Requirement already satisfied: chardet==3.* in d:\\python\\lib\\site-packages (from httpx==0.13.3->googletrans==3.1.0a0) (3.0.4)\n",
      "Requirement already satisfied: rfc3986<2,>=1.3 in d:\\python\\lib\\site-packages (from httpx==0.13.3->googletrans==3.1.0a0) (1.5.0)\n",
      "Requirement already satisfied: h11<0.10,>=0.8 in d:\\python\\lib\\site-packages (from httpcore==0.9.*->httpx==0.13.3->googletrans==3.1.0a0) (0.9.0)\n",
      "Requirement already satisfied: h2==3.* in d:\\python\\lib\\site-packages (from httpcore==0.9.*->httpx==0.13.3->googletrans==3.1.0a0) (3.2.0)\n",
      "Requirement already satisfied: hpack<4,>=3.0 in d:\\python\\lib\\site-packages (from h2==3.*->httpcore==0.9.*->httpx==0.13.3->googletrans==3.1.0a0) (3.0.0)\n",
      "Requirement already satisfied: hyperframe<6,>=5.2.0 in d:\\python\\lib\\site-packages (from h2==3.*->httpcore==0.9.*->httpx==0.13.3->googletrans==3.1.0a0) (5.2.0)\n"
     ]
    }
   ],
   "source": [
    "!pip install SpeechRecognition #Installing SpeechRecognition package using the pip package manager\n",
    "!pip install gTTS #Installing the gTTS (Google Text-to-Speech) package \n",
    "!pip install googletrans==3.1.0a0 #specific version (3.1.0a0) of the googletrans package\n"
   ]
  },
  {
   "cell_type": "markdown",
   "id": "6b904656",
   "metadata": {},
   "source": [
    "# Dependencies"
   ]
  },
  {
   "cell_type": "code",
   "execution_count": null,
   "id": "3467ed0b",
   "metadata": {},
   "outputs": [],
   "source": [
    "import speech_recognition as sr #now imports the speech_recognition module from the installed SpeechRecognition package\n",
    "from googletrans import Translator #imports the Translator class from the installed googletrans pacakge\n",
    "import webbrowser #webbrowser module, which provides a high-level interface to display web-based documents\n",
    "from gtts import gTTS #imports the gTTS (Google Text-to-Speech) module "
   ]
  },
  {
   "cell_type": "markdown",
   "id": "6f1c1c4a",
   "metadata": {},
   "source": [
    "## 1. Speech-to-Text (English) using speech_recognition and Google Web Speech API"
   ]
  },
  {
   "cell_type": "code",
   "execution_count": 2,
   "id": "872ad45b",
   "metadata": {},
   "outputs": [
    {
     "name": "stdout",
     "output_type": "stream",
     "text": [
      "English Text: I only recently learnt how to drive when it was really hard now as a cognitive science this is because I was using a light of something called exactly function exactly function is a amazing course like you have to understand how its influence by contacting your contacts and running\n"
     ]
    }
   ],
   "source": [
    "# This function performs speech-to-text on an audio file\n",
    "\n",
    "def speech_to_text(audio_file_path):\n",
    "    recognizer = sr.Recognizer()\n",
    "# Creating a new Recognizer object from the speech_recognition module\n",
    "    with sr.AudioFile(audio_file_path) as source:\n",
    "        audio = recognizer.record(source) # Record the audio data from the source and store it in the 'audio' variable\n",
    "\n",
    "        # Using the 'with' statement to open the audio file as an AudioFile object.\n",
    "        # The AudioFile object will handle the audio file's data and ensure it is properly closed after use.\n",
    "        \n",
    "    try:\n",
    "        # Using the Google Web Speech API to recognize the speech in the audio.\n",
    "        # The language is specified as 'en-US' (English - United States)\n",
    "        text = recognizer.recognize_google(audio, language='en-US')\n",
    "        return text # If the speech is successfully recognized, return the text.\n",
    "    except sr.UnknownValueError:\n",
    "        print(\"Could not understand the audio.\") # If the speech cannot be understood (i.e., not recognized), print an error message\n",
    "        return None\n",
    "    except sr.RequestError as e:\n",
    "        print(\"Error occurred; {0}\".format(e)) # If an error occurs while accessing the Google Web Speech API, print the error message.\n",
    "        return None\n",
    "\n",
    "    #code is executed when this script is run directly (not imported as a module)\n",
    "if __name__ == \"__main__\":\n",
    "    english_audio_file_path = \"C:/Users/AAISHA KAHN/Downloads/How to improve your brains executive function shorts tedx_vZ46Ov1zncY.wav\"\n",
    "   \n",
    "    # Calling the 'speech_to_text' function with the given audio file path.\n",
    "    # The function will perform speech-to-text on the audio file and return the English text.\n",
    "    \n",
    "    english_text = speech_to_text(english_audio_file_path) # Check if speech-to-text was successful (i.e., 'english_text' is not None).\n",
    "    \n",
    "    if english_text: # If successful, print the recognized English text to the console.\n",
    "        print(\"English Text:\", english_text)\n"
   ]
  },
  {
   "cell_type": "markdown",
   "id": "47e6c305",
   "metadata": {},
   "source": [
    "## 2. Translation from English to Hindi using googletrans"
   ]
  },
  {
   "cell_type": "code",
   "execution_count": 3,
   "id": "59149aef",
   "metadata": {},
   "outputs": [
    {
     "name": "stdout",
     "output_type": "stream",
     "text": [
      "Hindi Text: मैंने अभी हाल ही में गाड़ी चलाना सीखा है जब यह वास्तव में कठिन था, अब एक संज्ञानात्मक विज्ञान के रूप में ऐसा इसलिए है क्योंकि मैं किसी चीज़ की रोशनी का उपयोग कर रहा था जिसे सटीक फ़ंक्शन कहा जाता है, सटीक फ़ंक्शन एक अद्भुत कोर्स है जैसे आपको यह समझना होगा कि आपके संपर्कों से संपर्क करके और चलाकर इसका प्रभाव कैसा है\n"
     ]
    }
   ],
   "source": [
    "# Function to translate English text to Hindi\n",
    "\n",
    "def translate_to_hindi(english_text):\n",
    "    translator = Translator()# Create a Translator object from the googletrans package\n",
    "    # Using the translator object to translate the English text to Hindi.\n",
    "    # 'src' specifies the source language (English- the input voice after converting into text format), and 'dest' specifies the target language (Hindi- In my case i've choosen)\n",
    "    translated_text = translator.translate(english_text, src='en', dest='hi')\n",
    "    \n",
    "    # Return the translated text in Hindi\n",
    "    return translated_text.text\n",
    "\n",
    "\n",
    "#code is executed when this script is run directly (not imported as a module)\n",
    "if __name__ == \"__main__\":\n",
    "    #the actual English text obtained from speech-to-text\n",
    "    english_text = \"I only recently learnt how to drive when it was really hard now as a cognitive science this is because I was using a light of something called exactly function exactly function is a amazing course like you have to understand how its influence by contacting your contacts and running\"  # Replace this with the English text from speech-to-text\n",
    "    \n",
    "     # Calling the 'translate_to_hindi' function with the English text.\n",
    "    # The function will translate the English text to Hindi using the googletrans package.\n",
    "    hindi_text = translate_to_hindi(english_text)\n",
    "    print(\"Hindi Text:\", hindi_text)"
   ]
  },
  {
   "cell_type": "markdown",
   "id": "e6439982",
   "metadata": {},
   "source": [
    "## 3. Text-to-Speech (Hindi) using gTTS (Google Text-to-Speech)"
   ]
  },
  {
   "cell_type": "code",
   "execution_count": 5,
   "id": "21d31f37",
   "metadata": {},
   "outputs": [],
   "source": [
    "# Function to convert Hindi text to speech and save it as an audio file\n",
    "\n",
    "def text_to_speech_hindi(hindi_text, output_file_path):# Creating a gTTS (Google Text-to-Speech) object with the Hindi text and the language set to 'hi' (Hindi)\n",
    "    tts = gTTS(hindi_text, lang='hi')\n",
    "    tts.save(output_file_path)  # Save the speech as an audio file at the specified output file path\n",
    "\n",
    "if __name__ == \"__main__\":\n",
    "    hindi_text = \"मैंने अभी हाल ही में गाड़ी चलाना सीखा है जब यह वास्तव में कठिन था, अब एक संज्ञानात्मक विज्ञान के रूप में ऐसा इसलिए है क्योंकि मैं किसी चीज़ की रोशनी का उपयोग कर रही थी जिसे सटीक फ़ंक्शन कहा जाता है, सटीक फ़ंक्शन एक अद्भुत कोर्स है जैसे आपको यह समझना होगा कि आपके संपर्कों से संपर्क करके और चलाकर इसका प्रभाव कैसा है?\"  # Replace this with the Hindi text from translation\n",
    "    \n",
    "    hindi_audio_output_file_path = \"output_hindi.mp3\"# Set the output file path where the generated Hindi speech audio will be saved.\n",
    "    # Calling the 'text_to_speech_hindi' function with the Hindi text and output file path\n",
    "    # The function will generate speech in Hindi and save it as an audio file\n",
    "    \n",
    "    text_to_speech_hindi(hindi_text, hindi_audio_output_file_path)\n",
    "\n",
    "    \n",
    "     # Open the generated Hindi speech audio file using the default web browser\n",
    "    webbrowser.open(hindi_audio_output_file_path)"
   ]
  },
  {
   "cell_type": "markdown",
   "id": "fbcd3e1b",
   "metadata": {},
   "source": [
    "## Thank You"
   ]
  },
  {
   "cell_type": "code",
   "execution_count": null,
   "id": "80ffb2e2",
   "metadata": {},
   "outputs": [],
   "source": []
  }
 ],
 "metadata": {
  "kernelspec": {
   "display_name": "Python 3 (ipykernel)",
   "language": "python",
   "name": "python3"
  },
  "language_info": {
   "codemirror_mode": {
    "name": "ipython",
    "version": 3
   },
   "file_extension": ".py",
   "mimetype": "text/x-python",
   "name": "python",
   "nbconvert_exporter": "python",
   "pygments_lexer": "ipython3",
   "version": "3.9.12"
  }
 },
 "nbformat": 4,
 "nbformat_minor": 5
}
